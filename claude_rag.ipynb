{
 "cells": [
  {
   "cell_type": "code",
   "execution_count": 3,
   "id": "9544d281",
   "metadata": {},
   "outputs": [
    {
     "name": "stdout",
     "output_type": "stream",
     "text": [
      "The autoreload extension is already loaded. To reload it, use:\n",
      "  %reload_ext autoreload\n"
     ]
    }
   ],
   "source": [
    "%load_ext autoreload\n",
    "\n",
    "\n",
    "def chunk_by_window(text, chunk_size, overlap_size):\n",
    "    start=0\n",
    "    end=min(len(text),chunk_size)\n",
    "    chunks=[]\n",
    "    while end < len(text) and start<len(text):\n",
    "        chunks.append(text[start:end])\n",
    "        start=min(len(text),start+overlap_size)\n",
    "        end=min(len(text),start+chunk_size)\n",
    "    return chunks\n",
    "    \n"
   ]
  },
  {
   "cell_type": "code",
   "execution_count": 7,
   "id": "388d87be",
   "metadata": {},
   "outputs": [
    {
     "data": {
      "text/plain": [
       "1805"
      ]
     },
     "execution_count": 7,
     "metadata": {},
     "output_type": "execute_result"
    }
   ],
   "source": [
    "with open('report.md') as fp:\n",
    "   data= \"\\n\".join([x.strip() for x in fp.readlines()])\n",
    "\n",
    "len(chunk_by_window(data, 256, 10))"
   ]
  }
 ],
 "metadata": {
  "kernelspec": {
   "display_name": "pta",
   "language": "python",
   "name": "python3"
  },
  "language_info": {
   "codemirror_mode": {
    "name": "ipython",
    "version": 3
   },
   "file_extension": ".py",
   "mimetype": "text/x-python",
   "name": "python",
   "nbconvert_exporter": "python",
   "pygments_lexer": "ipython3",
   "version": "3.10.14"
  }
 },
 "nbformat": 4,
 "nbformat_minor": 5
}
